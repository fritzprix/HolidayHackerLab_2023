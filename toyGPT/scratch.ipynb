{
 "cells": [
  {
   "cell_type": "markdown",
   "metadata": {},
   "source": [
    "# paper wrapup - [Attention is All you need](https://arxiv.org/abs/1706.03762)\n",
    "\n",
    "## Problem\n",
    "\n",
    "### LSTM, GRU don't scale well\n",
    "\n",
    "- 기존의 Sequence Modeling을 위해 사용되던 LSTM, GRU는 재귀적 특성(Sequence)으로 인해 병렬화에 제약을 지님\n",
    "- 이러한 Sequence Length의 증가에 따른 Computation & Memory Complexity를 해결하기 위해 Convolution 기반의 방법 등이 시도되었으나 Long distance의 의존성을 제대로 다룰 수 없었음\n",
    "  - 예를 임의의 두 위치의 거리에 따라서 \n",
    "  - ConvS2S는 O(n)\n",
    "  - ByteNet는 O(logN)\n",
    "- 즉, long distance의 의존성을 적절하게 다룰 수 있으면서 동시에 sequence에 따른 복잡도를 최소화 할 수 있는 방법의 필요\n",
    "\n",
    "### Transformers\n",
    "\n",
    "- Transformer는 두 지점의 거리에 대해서 O(1)의 복잡도를 제공 (Generation의 경우 예외)\n",
    "- Self-Attention은 Reading Comprehension, Semantic Representation, 등에 뛰어난 성능을 보였음\n",
    "- Transfomer는 RNN이나 CNN 등을 사용하지 않고 순수하게 Self-Attention만을 사용한 최초의 사례\n",
    "\n",
    "### Model Architecture\n",
    "\n",
    "Encoder-Decoder Architecture\n",
    "\n",
    "#### Encoder\n",
    "\n",
    "- 6 identical layers\n",
    "- each layer\n",
    "  - multi-head self-attention (w/ residual connection)\n",
    "  - position-wise feedforward (w/ residual connection)\n",
    "\n",
    "```python\n",
    "\n",
    "layer_1 = LayerNorm(MultiHeadSelfAttention(x) + x)\n",
    "layer_2 = LayerNorm(PositionWiseFeedforward(x) + x)\n",
    "\n",
    "```\n",
    "\n",
    "#### Decoder\n",
    "\n",
    "- 6 identical layers\n",
    "- each layer\n",
    "  - multi-head self-attention (w/ residual connection)\n",
    "  - multi-head attention (w/ residual connection)\n",
    "  - position-wise feedforward (w/residual connection)\n",
    "\n",
    "```python\n",
    "\n",
    "layer_1 = LayerNorm(MultiHeadAttention(x) + x)\n",
    "layer_2 = LayerNorm(MultiHeadAttention(qk: encoder_output, v: x))\n",
    "layer_3 = LayerNorm(PositionWiseFeedforward(x) + x)\n",
    "\n",
    "```\n",
    "  "
   ]
  },
  {
   "cell_type": "markdown",
   "metadata": {},
   "source": [
    "## Scaled dot-product attention\n",
    "\n",
    "- Attention의 주요 알고리즘으로 Scaled dot-product attention을 사용\n",
    "- dot-product\n",
    "  - attention을 구하는 연산으로 Mat Mul을 사용\n",
    "- scaled\n",
    "  - dimension of key and value. 즉, word embedding vector의 dimension dk\n",
    "  - 1/sqrt(dk)로 attension을 scaling\n",
    "\n",
    "\n",
    "```python\n",
    "ScaledDotProduct(Q,K,V) = Softmax(Q@K.T / sqrt(dk))@V\n",
    "```\n"
   ]
  },
  {
   "cell_type": "code",
   "execution_count": 2,
   "metadata": {},
   "outputs": [],
   "source": [
    "import torch\n",
    "\n",
    "class ScaledDotProductAttention(torch.nn.Module):\n",
    "\n",
    "    def __init__(self, d_model, device=None, dtype: torch.dtype=torch.float, *args, **kwargs) -> None:\n",
    "        super().__init__(*args, **kwargs)\n",
    "        self.dk = torch.sqrt(torch.scalar_tensor(d_model, device=device, dtype=dtype))\n",
    "    \n",
    "    def forward(self, q: torch.Tensor, k: torch.Tensor, v: torch.Tensor, mask: torch.Tensor = None) -> torch.Tensor:\n",
    "        # input should have (B,N,d_model)\n",
    "        # q (b,1,d_model) , k (b,n,d_model)\n",
    "        # qk = (b,1,n)\n",
    "        scaled_qk = q@torch.transpose(k, 2, 1) / self.dk\n",
    "        if mask is not None:\n",
    "            scaled_qk = scaled_qk * mask\n",
    "        attention_weights = torch.softmax(scaled_qk, dim=-1)\n",
    "        return  attention_weights @  v\n",
    "        \n",
    "\n"
   ]
  },
  {
   "cell_type": "markdown",
   "metadata": {},
   "source": [
    "## Multi-Head attention\n",
    "\n",
    "- d_model 즉, Query, Key ,Value의 word embedding vector를 다수의 sub vector로 나누어서 각 sub vector를 입력으로 하는 scaled dot-product attention 다수를 조합하여 하나의 Attention block을 구성함.\n",
    "\n",
    "```python\n",
    "MultiHeadAttention(Q,K,V,n_heads) = concat(*[ScaledDotProduct(linear(qi),linear(ki),linear(vi)) for qi,ki,vi in zip(Q.split(n_heads), K.split(n_heads), V.split(n_heads))])\n",
    "```\n",
    "\n"
   ]
  },
  {
   "cell_type": "code",
   "execution_count": 3,
   "metadata": {},
   "outputs": [],
   "source": [
    "\n",
    "import torch\n",
    "\n",
    "class MultiHeadAttention(torch.nn.Module):\n",
    "\n",
    "    def __init__(self, d_model, n_head, device=None, dtype: torch.dtype=torch.float, *args, **kwargs) -> None:\n",
    "        super().__init__(*args, **kwargs)\n",
    "        self.n_head = n_head\n",
    "        self.depth = d_model // n_head\n",
    "\n",
    "        self.q_linear = torch.nn.Linear(d_model, d_model, device=device, dtype=dtype)\n",
    "        self.k_linear = torch.nn.Linear(d_model, d_model, device=device, dtype=dtype)\n",
    "        self.v_linear = torch.nn.Linear(d_model, d_model, device=device, dtype=dtype)\n",
    "\n",
    "        self.attns = torch.nn.ModuleList([ScaledDotProductAttention(d_model=self.depth, device=device, dtype=dtype) for _ in range(n_head)])\n",
    "        self.output_linear = torch.nn.Linear(d_model, d_model, device=device, dtype=dtype)\n",
    "                \n",
    "        \n",
    "    def forward(self, input: torch.Tensor, mask:torch.Tensor=None) -> torch.Tensor:\n",
    "        if len(input.shape) == 2:\n",
    "            input = input.unsqueeze(0)\n",
    "        if len(input.shape) != 3:\n",
    "            raise ValueError(f'unsupported tensor shape: {input.shape}, should be form of (B,N,d)')\n",
    "        \n",
    "        b,n,d = input.shape\n",
    "        q = self.q_linear.forward(input).view((b, n, self.n_head, -1))\n",
    "        k = self.k_linear.forward(input).view((b, n, self.n_head, -1))\n",
    "        v = self.v_linear.forward(input).view((b, n, self.n_head, -1))\n",
    "        attn_output = torch.concat([self.attns[i].forward(q[:,:,i,:].view((b,n,self.depth)), \n",
    "                                            k[:,:,i,:].view((b,n, self.depth)), \n",
    "                                            v[:,:,i,:].view((b,n, self.depth)), mask) for i in range(self.n_head)],dim=-1)\n",
    "        return self.output_linear.forward(attn_output)\n",
    "        "
   ]
  },
  {
   "cell_type": "code",
   "execution_count": 4,
   "metadata": {},
   "outputs": [],
   "source": [
    "import torch\n",
    "\n",
    "\n",
    "device = torch.device('cuda') if torch.cuda.is_available() else torch.device('cpu')\n",
    "test = torch.rand((1, 1024, 512), device=device, dtype=torch.float16)\n",
    "\n",
    "attention = MultiHeadAttention(512, 8, device=device, dtype=torch.float16)\n",
    "attention = torch.compile(attention)\n",
    "\n",
    "\n"
   ]
  },
  {
   "cell_type": "code",
   "execution_count": 5,
   "metadata": {},
   "outputs": [
    {
     "data": {
      "text/plain": [
       "torch.Size([1, 1024, 512])"
      ]
     },
     "execution_count": 5,
     "metadata": {},
     "output_type": "execute_result"
    }
   ],
   "source": [
    "out = attention.forward(test)\n",
    "out.shape"
   ]
  },
  {
   "cell_type": "markdown",
   "metadata": {},
   "source": [
    "## Position-wise feedforward\n",
    "\n",
    "- Linear - Relu - Linear\n",
    "\n",
    "\n",
    "## Transformer Layer\n",
    "\n",
    "- GPT논문의 Transformer layer는 Attention is all you need의 transformer는 Encoder 유사한 구조로 residual connection을 갖는 Multi-head attention과 position wise feedforward의 2개의 sublayer로 구성되어 있고 각 sublayer의 출력에 layer norm이 추가되는 형태\n",
    "- 첫 GPT 논문에서는 이러한 transformer block 12개를 쌓아 model을 구성\n"
   ]
  },
  {
   "cell_type": "code",
   "execution_count": 31,
   "metadata": {},
   "outputs": [],
   "source": [
    "import torch\n",
    "\n",
    "class PositionWiseFeedforward(torch.nn.Module):\n",
    "\n",
    "    def __init__(self, d_model:int, device, dtype: torch.dtype=torch.float, *args, **kwargs) -> None:\n",
    "        super().__init__(*args, **kwargs)\n",
    "        self.pwff = torch.nn.Sequential(torch.nn.Linear(d_model, d_model * 4, device=device,dtype=dtype), \n",
    "                                            torch.nn.GELU(), \n",
    "                                            torch.nn.Linear(4* d_model, d_model, device=device, dtype=dtype))\n",
    "        \n",
    "    def forward(self, input: torch.Tensor)-> torch.Tensor:\n",
    "        return self.pwff.forward(input)\n",
    "\n",
    "\n",
    "class Transformer(torch.nn.Module):\n",
    "\n",
    "    def __init__(self, n_head, d_model, device, dtype:torch.dtype=torch.float, *args, **kwargs) -> None:\n",
    "        super().__init__(*args, **kwargs)\n",
    "        self.input_norm = torch.nn.LayerNorm(d_model, device=device, dtype=dtype)\n",
    "        self.mha = MultiHeadAttention(d_model=d_model, n_head=n_head, device=device, dtype=dtype)\n",
    "        self.mha_lnorm = torch.nn.LayerNorm(d_model, device=device,dtype=dtype)\n",
    "        self.pw_ff = PositionWiseFeedforward(d_model=d_model, device=device, dtype=dtype)\n",
    "\n",
    "    def forward(self, input:torch.Tensor, mask: torch.Tensor=None) -> torch.Tensor:\n",
    "        # Pre-LayerNormalization from GPT-3, (note: Post-LayerNormalization is used for GPT-2 and original paper)\n",
    "        norm_input = self.input_norm.forward(input)\n",
    "        mha_output = input + self.mha.forward(norm_input, mask)\n",
    "        norm_mha_output = self.mha_lnorm(mha_output)\n",
    "        return mha_output + self.pw_ff.forward(norm_mha_output)\n"
   ]
  },
  {
   "cell_type": "code",
   "execution_count": 32,
   "metadata": {},
   "outputs": [
    {
     "data": {
      "text/plain": [
       "torch.Size([1, 1024, 512])"
      ]
     },
     "execution_count": 32,
     "metadata": {},
     "output_type": "execute_result"
    }
   ],
   "source": [
    "device = torch.device('cuda') if torch.cuda.is_available() else torch.device('cpu')\n",
    "transformer = Transformer(8, 512, device=device, dtype=torch.float16)\n",
    "output = transformer.forward(test)\n",
    "output.shape"
   ]
  },
  {
   "cell_type": "markdown",
   "metadata": {},
   "source": [
    "## Embedding & Tokenization\n",
    "\n",
    "- Text를 적절한 Numerical Representation으로 변형을 하기 위해서는 크게 2가지의 처리 단계를 필요로 하는데 이는 Tokenization과 Embedding이다.\n",
    "\n",
    "\n",
    "### Tokenization\n",
    "- Text를 최소 단위로 쪼개어 각 의미 단위에 고유한 ID를 부여하는 것.\n",
    "- 최소 단위로 쪼개는 방식에 따라 Character Level Tokenization 부터 Subword Tokenization 등 다양한 방법이 있다. \n",
    "- 단, 신규 어휘의 확장에 유연하게 대응할 수 있는 장점을 지닌 Subword 방식을 많이 쓰고 있으며 BPE라는 방식이 유명하다.\n",
    "  "
   ]
  },
  {
   "cell_type": "code",
   "execution_count": 33,
   "metadata": {},
   "outputs": [
    {
     "data": {
      "text/plain": [
       "torch.Size([8, 64, 50])"
      ]
     },
     "execution_count": 33,
     "metadata": {},
     "output_type": "execute_result"
    }
   ],
   "source": [
    "import torch\n",
    "\n",
    "vocab_size = 500\n",
    "dense_rep = 50\n",
    "batch = 8\n",
    "seq = 64\n",
    "\n",
    "input = torch.ones((batch, seq), dtype=torch.int) ## test input\n",
    "\n",
    "embedding = torch.nn.Embedding(vocab_size, dense_rep) ## convert the token_id to dense vector\n",
    "\n",
    "output = embedding.forward(input=input)\n",
    "\n",
    "output.shape # would be (8,64,50)\n"
   ]
  },
  {
   "cell_type": "code",
   "execution_count": 34,
   "metadata": {},
   "outputs": [],
   "source": [
    "import lightning as L\n",
    "from typing import Any\n",
    "from lightning.pytorch.utilities.types import STEP_OUTPUT\n",
    "\n",
    "class ToyGPT(L.LightningModule):\n",
    "\n",
    "    def __init__(self, \n",
    "                 vocab_size:int, \n",
    "                 d_model:int, n_head:int, num_layers:int, pad_id:int=None,  device=None, dtype:torch.dtype=torch.float, *args, **kwargs) -> None:\n",
    "        super().__init__(*args, **kwargs)\n",
    "        \n",
    "        self.embedding = torch.nn.Embedding(vocab_size, d_model, padding_idx=pad_id, device=device, dtype=dtype)\n",
    "        self.transformers = torch.nn.Sequential(*[Transformer(n_head=n_head, d_model=d_model, device=device, dtype=dtype) for _ in range(num_layers)])\n",
    "        self.output_linear = torch.nn.Linear(d_model, vocab_size, device=device, dtype=dtype)\n",
    "        self.softmax = torch.nn.Softmax(dim=-1)\n",
    "\n",
    "\n",
    "    def forward(self, X: torch.Tensor) -> torch.Tensor:\n",
    "        # X should have shape of (B,N)\n",
    "        if len(X.shape) == 1:\n",
    "            X = X.unsqueeze(0)\n",
    "\n",
    "        return self.softmax.forward(self.output_linear.forward(self.transformers.forward(self.embedding.forward(input=X))))\n",
    "    \n",
    "\n",
    "    def training_step(self, batch_input, batch_index, *args: Any, **kwargs: Any) -> STEP_OUTPUT:\n",
    "\n",
    "        return super().training_step(*args, **kwargs)\n",
    "    \n",
    "    def test_step(self, batch_input, batch_index, *args: Any, **kwargs: Any) -> STEP_OUTPUT:\n",
    "        return super().test_step(*args, **kwargs)"
   ]
  },
  {
   "cell_type": "code",
   "execution_count": 35,
   "metadata": {},
   "outputs": [
    {
     "data": {
      "text/plain": [
       "tensor([[[1.9264e-04, 2.3949e-04, 2.5058e-04,  ..., 2.1100e-04,\n",
       "          1.8418e-04, 1.1563e-04],\n",
       "         [3.1519e-04, 4.2987e-04, 2.3699e-04,  ..., 7.5996e-05,\n",
       "          4.4417e-04, 1.0359e-04],\n",
       "         [1.1337e-04, 2.0766e-04, 1.7440e-04,  ..., 7.3850e-05,\n",
       "          1.2201e-04, 5.0604e-05],\n",
       "         ...,\n",
       "         [1.1820e-04, 1.6356e-04, 3.3689e-04,  ..., 9.8586e-05,\n",
       "          2.1982e-04, 8.1062e-05],\n",
       "         [1.9264e-04, 2.3949e-04, 2.5058e-04,  ..., 2.1100e-04,\n",
       "          1.8418e-04, 1.1563e-04],\n",
       "         [1.9264e-04, 2.3949e-04, 2.5058e-04,  ..., 2.1100e-04,\n",
       "          1.8418e-04, 1.1563e-04]]], device='cuda:0', dtype=torch.float16,\n",
       "       grad_fn=<SoftmaxBackward0>)"
      ]
     },
     "execution_count": 35,
     "metadata": {},
     "output_type": "execute_result"
    }
   ],
   "source": [
    "device = torch.device('cuda') if torch.cuda.is_available() else torch.device('cpu')\n",
    "\n",
    "test_input = torch.tensor([0,1,2,3,4,0,0], dtype=torch.int, device=device)\n",
    "\n",
    "gpt = ToyGPT(5000, 128, n_head=8, num_layers=4, pad_id=0, device=device, dtype=torch.float16)\n",
    "output = gpt.forward(test_input)\n",
    "output\n"
   ]
  },
  {
   "cell_type": "markdown",
   "metadata": {},
   "source": [
    "## `Masking` in Masked Attention\n"
   ]
  },
  {
   "cell_type": "code",
   "execution_count": 1,
   "metadata": {},
   "outputs": [
    {
     "data": {
      "image/png": "[encoded data removed]",
      "text/plain": [
       "<Figure size 800x600 with 2 Axes>"
      ]
     },
     "metadata": {},
     "output_type": "display_data"
    }
   ],
   "source": [
    "import matplotlib.pyplot as plt\n",
    "import numpy as np\n",
    "\n",
    "# Example sequence including special tokens\n",
    "sequence = [\"<bos>\", \"hello\", \"there\", \"I'm\", \"david\", \"<eos>\"]\n",
    "seq_length = len(sequence)\n",
    "\n",
    "# Creating a mask with large negative numbers for visualization\n",
    "filled_mask = np.triu(np.ones((seq_length, seq_length)), k=1) * -10\n",
    "\n",
    "# Plotting the filled mask\n",
    "plt.figure(figsize=(8, 6))\n",
    "plt.imshow(filled_mask, cmap='viridis')\n",
    "plt.colorbar(label='Mask Value')\n",
    "plt.title('Filled Attention Mask Visualization for \"hello there I\\'m david\"')\n",
    "plt.xlabel('Key Tokens')\n",
    "plt.ylabel('Query Tokens')\n",
    "plt.xticks(ticks=range(seq_length), labels=sequence)\n",
    "plt.yticks(ticks=range(seq_length), labels=sequence)\n",
    "plt.show()\n"
   ]
  },
  {
   "cell_type": "markdown",
   "metadata": {},
   "source": [
    "\n",
    "- Masking은 Scaled(Q@K.T)의 결과인 Attention Score에서 QnKm (where m > n)에 있는 값들을 -inf으로 변환한다.\n",
    "- 이는 GPT와 같은 Autoregressive 모델의 주요한 목적, 즉, Sequence에서 한쪽의 정보를 기반으로 그 다음에 올 정보를 추정해야하는 모델에서 \n",
    "- 추정의 정답 즉, Ground Truth에 대한 정보가 Training에 포함되는 것을 막기 위함이다."
   ]
  },
  {
   "cell_type": "markdown",
   "metadata": {},
   "source": [
    "### Tokenizer\n",
    "\n",
    "- Pre-trained GPT2 tokenizer will be used\n",
    "- Special Tokens\n",
    "  - pad_token: `<pad>`\n",
    "  - bos_token: `<s>`\n",
    "  - eos_token: `</s>`\n",
    "  \n"
   ]
  },
  {
   "cell_type": "code",
   "execution_count": 1,
   "metadata": {},
   "outputs": [
    {
     "name": "stderr",
     "output_type": "stream",
     "text": [
      "/home/fritzprix/miniconda3/envs/torch/lib/python3.10/site-packages/tqdm/auto.py:22: TqdmWarning: IProgress not found. Please update jupyter and ipywidgets. See https://ipywidgets.readthedocs.io/en/stable/user_install.html\n",
      "  from .autonotebook import tqdm as notebook_tqdm\n"
     ]
    },
    {
     "data": {
      "text/plain": [
       "GPT2Tokenizer(name_or_path='gpt2', vocab_size=50257, model_max_length=1024, is_fast=False, padding_side='right', truncation_side='right', special_tokens={'bos_token': '<s>', 'eos_token': '</s>', 'unk_token': AddedToken(\"<|endoftext|>\", rstrip=False, lstrip=False, single_word=False, normalized=True), 'pad_token': '<pad>'}, clean_up_tokenization_spaces=True)"
      ]
     },
     "execution_count": 1,
     "metadata": {},
     "output_type": "execute_result"
    }
   ],
   "source": [
    "from transformers import PreTrainedTokenizer, GPT2Tokenizer\n",
    "\n",
    "def get_tokenizer() -> PreTrainedTokenizer:\n",
    "    \n",
    "    tokenizer: PreTrainedTokenizer = GPT2Tokenizer.from_pretrained('gpt2')\n",
    "    tokenizer.add_special_tokens({\"pad_token\": \"<pad>\", \"bos_token\":\"<s>\", \"eos_token\":\"</s>\"}) # special \n",
    "    return tokenizer\n",
    "\n",
    "get_tokenizer()"
   ]
  },
  {
   "cell_type": "markdown",
   "metadata": {},
   "source": [
    "## Dataset\n",
    "\n",
    "- \"wikimedia/wikisource\", \"20231201.en\"\n",
    "- HuggingFace의 Datasets와 Unstructured.io를 이용 Data의 download, pre-processing을 구현\n",
    "- Lightening framework과 연동을 위해 LighteningDataModule을 구현\n"
   ]
  },
  {
   "cell_type": "code",
   "execution_count": 2,
   "metadata": {},
   "outputs": [],
   "source": [
    "from typing import Any, List, Dict\n",
    "\n",
    "import lightning as L\n",
    "from datasets import Dataset, load_from_disk, load_dataset\n",
    "from lightning.pytorch.utilities.types import EVAL_DATALOADERS, TRAIN_DATALOADERS\n",
    "from transformers import PreTrainedTokenizer\n",
    "from torch.utils import data\n",
    "from unstructured.cleaners.core import (\n",
    "    replace_unicode_quotes, clean, clean_ligatures\n",
    ")\n",
    "import re\n",
    "from unstructured.cleaners.core import clean"
   ]
  },
  {
   "cell_type": "markdown",
   "metadata": {},
   "source": [
    "\n",
    "### Pre-processing\n",
    "- Text Cleansing\n",
    "  - extra whitespace 제거\n",
    "  - unicode quote 대체\n",
    "  - ligatures 제거\n",
    "- 이렇게 Cleansing된 Text를 완전한 Sentence 단위로 분절하여 Max Length에 맞도록 전처리하여 Local에 저장\n"
   ]
  },
  {
   "cell_type": "code",
   "execution_count": 3,
   "metadata": {},
   "outputs": [],
   "source": [
    "class SentenceChunker:\n",
    "    \"\"\"\n",
    "    A class responsible for chunking text into sentences and tokenizing them\n",
    "    according to a specified maximum length.\n",
    "\n",
    "    Attributes:\n",
    "        tokenizer (PreTrainedTokenizer): A tokenizer from the transformers library\n",
    "                                         used for tokenizing sentences.\n",
    "        max_length (int): The maximum token length for a single chunk.\n",
    "    \"\"\"\n",
    "\n",
    "    def _split_into_sentences(self, text):\n",
    "        \"\"\"\n",
    "        Splits the input text into sentences.\n",
    "\n",
    "        The text is first cleaned to standardize it (removing extra whitespaces, \n",
    "        replacing unicode quotes, and removing ligatures). Then, it is split into \n",
    "        sentences using a regular expression that looks for sentence end markers \n",
    "        (., !, ?) followed by a whitespace.\n",
    "\n",
    "        Args:\n",
    "            text (str): The text to be split into sentences.\n",
    "\n",
    "        Returns:\n",
    "            List[str]: A list of sentences extracted from the input text.\n",
    "        \"\"\"\n",
    "        # Clean the text and split it into sentences\n",
    "        clean_text = replace_unicode_quotes(clean_ligatures(clean(text, extra_whitespace=True)))\n",
    "        sentences = re.split(r'(?<=[.!?])\\s+', clean_text)\n",
    "        return [sentence for sentence in sentences]\n",
    "\n",
    "    def __init__(self, tokenizer: PreTrainedTokenizer, max_length:int) -> None:\n",
    "        \"\"\"\n",
    "        Initializes the SentenceChunker with a tokenizer and a maximum length.\n",
    "\n",
    "        Args:\n",
    "            tokenizer (PreTrainedTokenizer): The tokenizer to be used for tokenization.\n",
    "            max_length (int): The maximum token length for a single chunk.\n",
    "        \"\"\"\n",
    "        self.tokenizer = tokenizer\n",
    "        self.max_length = max_length\n",
    "\n",
    "    def __call__(self, batch, *args: Any, **kwds: Any) -> Any:\n",
    "        \"\"\"\n",
    "        Processes a batch of text sequences by first splitting them into sentences,\n",
    "        then encoding each sentence. The sentences are then chunked according to the \n",
    "        maximum length, ensuring no chunk exceeds this limit.\n",
    "\n",
    "        Args:\n",
    "            batch: A batch of text sequences.\n",
    "\n",
    "        Returns:\n",
    "            Dict[str, List]: A dictionary with two keys, 'success' and 'failure'.\n",
    "                             'success' contains chunks that are within the max_length,\n",
    "                             'failure' contains chunks that exceed the max_length.\n",
    "        \"\"\"\n",
    "        # Handle single string inputs by wrapping them in a list\n",
    "        if isinstance(batch, str):\n",
    "            batch = [batch]\n",
    "\n",
    "        # Split each sequence in the batch into sentences and encode them\n",
    "        batch_of_chunks = [self._split_into_sentences(seq) for seq in batch]\n",
    "        batch_of_encodings = [self.tokenizer.batch_encode_plus(chunks, return_length=True) for chunks in batch_of_chunks]\n",
    "\n",
    "        result = {\"success\": [], \"failure\": []}\n",
    "        success_batch_bucket = []\n",
    "        failure_batch_bucket = []\n",
    "\n",
    "        # Iterate over each sequence's encodings and chunk them\n",
    "        for bi, encodings in enumerate(batch_of_encodings):\n",
    "            bucket = []\n",
    "            tokens_total = 0\n",
    "\n",
    "            # Process each sentence in the sequence\n",
    "            for n, token_count in enumerate(encodings[\"length\"]):\n",
    "                # Handle sentences that exceed the max length\n",
    "                if token_count > self.max_length:\n",
    "                    failure_batch_bucket.append({\"text\":batch_of_chunks[bi][n], \"length\": token_count})\n",
    "                    continue\n",
    "\n",
    "                # Check if adding the sentence would exceed the max length\n",
    "                if token_count + tokens_total > self.max_length:\n",
    "                    # Current bucket is full, save and reset it\n",
    "                    success_batch_bucket.append({\"text\":' '.join(bucket), \"length\": tokens_total})\n",
    "                    bucket.clear()\n",
    "                    tokens_total = 0\n",
    "                \n",
    "                # Add the sentence to the current bucket\n",
    "                bucket.append(batch_of_chunks[bi][n])\n",
    "                tokens_total += token_count\n",
    "\n",
    "            # Append the processed batches to the result\n",
    "            result[\"success\"].append([*success_batch_bucket])\n",
    "            result['failure'].append([*failure_batch_bucket])\n",
    "            success_batch_bucket.clear()\n",
    "            failure_batch_bucket.clear()\n",
    "\n",
    "        return result"
   ]
  },
  {
   "cell_type": "markdown",
   "metadata": {},
   "source": [
    "\n",
    "### Loading\n",
    "- shuffling\n",
    "- batch tokenization\n",
    "\n"
   ]
  },
  {
   "cell_type": "code",
   "execution_count": 4,
   "metadata": {},
   "outputs": [],
   "source": [
    "\n",
    "class SuccessCaseGenerator:\n",
    "    def __init__(self, datasets: List[Dataset], transform=None) -> None:\n",
    "        self.datasets = datasets\n",
    "        self.transform = transform\n",
    "\n",
    "    def __call__(self, *args: Any, **kwds: Any) -> Any:\n",
    "        for ds in self.datasets:\n",
    "            for b in ds[\"success\"]:\n",
    "                for seq in b:\n",
    "                    if self.transform:\n",
    "                        seq = self.transform(seq)\n",
    "                    yield seq\n",
    "\n",
    "\n",
    "class WikiSourceDataModule(L.LightningDataModule):\n",
    "\n",
    "    def __init__(self, tokenizer: PreTrainedTokenizer, max_length:int, batch_size:int, languages:List[str]=['en'], train_size:float=0.9, num_proc=15) -> None:\n",
    "        super().__init__()\n",
    "        self.languages = languages\n",
    "        self.tokenizer = tokenizer\n",
    "        self.max_length = max_length\n",
    "        self.train_size = train_size\n",
    "        self.batch_size = batch_size\n",
    "        self.num_proc = num_proc\n",
    "\n",
    "\n",
    "    def prepare_data(self) -> None:\n",
    "\n",
    "        def transform(v:Dict[str, Any]) -> str:\n",
    "            return {\"length\": v[\"length\"], \"text\": f\"<s>{v['text']}</s>\"}\n",
    "        \n",
    "        sentence_chunker = SentenceChunker(self.tokenizer, self.max_length - 2)\n",
    "        datasets = [load_dataset('wikimedia/wikisource', f\"20231201.{lang}\")[\"train\"].map(lambda b: sentence_chunker(b[\"text\"]), batched=True, num_proc=self.num_proc).flatten() for lang in self.languages]\n",
    "        success_ds = Dataset.from_generator(SuccessCaseGenerator(datasets, transform=transform))\n",
    "        success_ds = success_ds.train_test_split(test_size=(1 - self.train_size), train_size=self.train_size)\n",
    "        success_ds.save_to_disk('local_dscache')\n",
    "\n",
    "    def setup(self, stage: str) -> None:\n",
    "        self.dataset = load_from_disk('local_dscache')\n",
    "        self.train_dataset = self.dataset['train'].train_test_split(test_size=(1 - self.train_size), train_size=self.train_size)\n",
    "\n",
    "        return super().setup(stage)\n",
    "\n",
    "    def _tokenize(self, data):\n",
    "            inputs = data['text']\n",
    "            return self.tokenizer.batch_encode_plus(inputs, return_tensors=\"pt\", padding=True, return_length=True, max_length=self.max_length)\n",
    "    \n",
    "    def train_dataloader(self) -> TRAIN_DATALOADERS:\n",
    "        train_dataset = self.train_dataset[\"train\"].shuffle().map(self._tokenize, batched=True, batch_size=self.batch_size, num_proc=self.num_proc)\n",
    "        return data.DataLoader(train_dataset.with_format(type=\"torch\"))\n",
    "    \n",
    "    def val_dataloader(self) -> EVAL_DATALOADERS:\n",
    "        val_dataset = self.train_dataset[\"test\"].shuffle().map(self._tokenize, batched=True, batch_size=self.batch_size, num_proc=self.num_proc)\n",
    "        return data.DataLoader(val_dataset.with_format(type=\"torch\"))\n",
    "    \n",
    "    def test_dataloader(self) -> EVAL_DATALOADERS:\n",
    "        test_dataset = self.dataset[\"test\"].shuffle().map(self._tokenize, batched=True, batch_size=self.batch_size, num_proc=self.num_proc)\n",
    "        return data.DataLoader(test_dataset.with_format(type=\"torch\"))\n",
    "    \n",
    "    \n"
   ]
  },
  {
   "cell_type": "code",
   "execution_count": 6,
   "metadata": {},
   "outputs": [
    {
     "name": "stderr",
     "output_type": "stream",
     "text": [
      "Resolving data files: 100%|██████████| 19/19 [00:00<00:00, 354185.67it/s]\n",
      "Saving the dataset (4/4 shards): 100%|██████████| 936713/936713 [00:07<00:00, 119153.60 examples/s]\n",
      "Saving the dataset (1/1 shards): 100%|██████████| 104080/104080 [00:00<00:00, 134662.93 examples/s]\n",
      "Map (num_proc=15):   0%|          | 0/843041 [00:00<?, ? examples/s]/home/fritzprix/miniconda3/envs/torch/lib/python3.10/site-packages/transformers/tokenization_utils_base.py:2436: UserWarning: `max_length` is ignored when `padding`=`True` and there is no truncation strategy. To pad to max length, use `padding='max_length'`.\n",
      "  warnings.warn(\n",
      "Map (num_proc=15):   0%|          | 160/843041 [00:00<53:08, 264.33 examples/s] /home/fritzprix/miniconda3/envs/torch/lib/python3.10/site-packages/transformers/tokenization_utils_base.py:2436: UserWarning: `max_length` is ignored when `padding`=`True` and there is no truncation strategy. To pad to max length, use `padding='max_length'`.\n",
      "  warnings.warn(\n",
      "Map (num_proc=15):   0%|          | 572/843041 [00:01<17:58, 780.98 examples/s]/home/fritzprix/miniconda3/envs/torch/lib/python3.10/site-packages/transformers/tokenization_utils_base.py:2436: UserWarning: `max_length` is ignored when `padding`=`True` and there is no truncation strategy. To pad to max length, use `padding='max_length'`.\n",
      "  warnings.warn(\n",
      "Map (num_proc=15):   0%|          | 1280/843041 [00:01<09:38, 1454.53 examples/s]/home/fritzprix/miniconda3/envs/torch/lib/python3.10/site-packages/transformers/tokenization_utils_base.py:2436: UserWarning: `max_length` is ignored when `padding`=`True` and there is no truncation strategy. To pad to max length, use `padding='max_length'`.\n",
      "  warnings.warn(\n",
      "Map (num_proc=15):   0%|          | 2212/843041 [00:02<06:45, 2075.57 examples/s]/home/fritzprix/miniconda3/envs/torch/lib/python3.10/site-packages/transformers/tokenization_utils_base.py:2436: UserWarning: `max_length` is ignored when `padding`=`True` and there is no truncation strategy. To pad to max length, use `padding='max_length'`.\n",
      "  warnings.warn(\n",
      "Map (num_proc=15):   0%|          | 3432/843041 [00:02<04:54, 2851.09 examples/s]/home/fritzprix/miniconda3/envs/torch/lib/python3.10/site-packages/transformers/tokenization_utils_base.py:2436: UserWarning: `max_length` is ignored when `padding`=`True` and there is no truncation strategy. To pad to max length, use `padding='max_length'`.\n",
      "  warnings.warn(\n",
      "Map (num_proc=15):   1%|          | 4304/843041 [00:02<05:30, 2539.56 examples/s]/home/fritzprix/miniconda3/envs/torch/lib/python3.10/site-packages/transformers/tokenization_utils_base.py:2436: UserWarning: `max_length` is ignored when `padding`=`True` and there is no truncation strategy. To pad to max length, use `padding='max_length'`.\n",
      "  warnings.warn(\n",
      "Map (num_proc=15):   1%|          | 6748/843041 [00:03<03:15, 4277.16 examples/s]/home/fritzprix/miniconda3/envs/torch/lib/python3.10/site-packages/transformers/tokenization_utils_base.py:2436: UserWarning: `max_length` is ignored when `padding`=`True` and there is no truncation strategy. To pad to max length, use `padding='max_length'`.\n",
      "  warnings.warn(\n",
      "Map (num_proc=15):   1%|          | 8608/843041 [00:03<03:03, 4553.14 examples/s]/home/fritzprix/miniconda3/envs/torch/lib/python3.10/site-packages/transformers/tokenization_utils_base.py:2436: UserWarning: `max_length` is ignored when `padding`=`True` and there is no truncation strategy. To pad to max length, use `padding='max_length'`.\n",
      "  warnings.warn(\n",
      "Map (num_proc=15):   1%|          | 10264/843041 [00:04<02:49, 4926.09 examples/s]/home/fritzprix/miniconda3/envs/torch/lib/python3.10/site-packages/transformers/tokenization_utils_base.py:2436: UserWarning: `max_length` is ignored when `padding`=`True` and there is no truncation strategy. To pad to max length, use `padding='max_length'`.\n",
      "  warnings.warn(\n",
      "Map (num_proc=15):   1%|▏         | 12400/843041 [00:04<03:11, 4347.33 examples/s]/home/fritzprix/miniconda3/envs/torch/lib/python3.10/site-packages/transformers/tokenization_utils_base.py:2436: UserWarning: `max_length` is ignored when `padding`=`True` and there is no truncation strategy. To pad to max length, use `padding='max_length'`.\n",
      "  warnings.warn(\n",
      "Map (num_proc=15):   2%|▏         | 13880/843041 [00:05<04:24, 3134.82 examples/s]/home/fritzprix/miniconda3/envs/torch/lib/python3.10/site-packages/transformers/tokenization_utils_base.py:2436: UserWarning: `max_length` is ignored when `padding`=`True` and there is no truncation strategy. To pad to max length, use `padding='max_length'`.\n",
      "  warnings.warn(\n",
      "Map (num_proc=15):   2%|▏         | 17200/843041 [00:06<02:30, 5474.60 examples/s]/home/fritzprix/miniconda3/envs/torch/lib/python3.10/site-packages/transformers/tokenization_utils_base.py:2436: UserWarning: `max_length` is ignored when `padding`=`True` and there is no truncation strategy. To pad to max length, use `padding='max_length'`.\n",
      "  warnings.warn(\n",
      "Map (num_proc=15):   2%|▏         | 19564/843041 [00:06<03:41, 3722.98 examples/s]/home/fritzprix/miniconda3/envs/torch/lib/python3.10/site-packages/transformers/tokenization_utils_base.py:2436: UserWarning: `max_length` is ignored when `padding`=`True` and there is no truncation strategy. To pad to max length, use `padding='max_length'`.\n",
      "  warnings.warn(\n",
      "Map (num_proc=15):   3%|▎         | 28580/843041 [00:07<01:45, 7728.07 examples/s] /home/fritzprix/miniconda3/envs/torch/lib/python3.10/site-packages/transformers/tokenization_utils_base.py:2436: UserWarning: `max_length` is ignored when `padding`=`True` and there is no truncation strategy. To pad to max length, use `padding='max_length'`.\n",
      "  warnings.warn(\n",
      "Map (num_proc=15): 100%|██████████| 843041/843041 [02:16<00:00, 6163.35 examples/s]\n",
      "Map (num_proc=15):   0%|          | 0/93672 [00:00<?, ? examples/s]/home/fritzprix/miniconda3/envs/torch/lib/python3.10/site-packages/transformers/tokenization_utils_base.py:2436: UserWarning: `max_length` is ignored when `padding`=`True` and there is no truncation strategy. To pad to max length, use `padding='max_length'`.\n",
      "  warnings.warn(\n",
      "Map (num_proc=15):   0%|          | 4/93672 [00:00<5:25:09,  4.80 examples/s]/home/fritzprix/miniconda3/envs/torch/lib/python3.10/site-packages/transformers/tokenization_utils_base.py:2436: UserWarning: `max_length` is ignored when `padding`=`True` and there is no truncation strategy. To pad to max length, use `padding='max_length'`.\n",
      "  warnings.warn(\n",
      "Map (num_proc=15):   0%|          | 368/93672 [00:01<02:54, 535.00 examples/s]/home/fritzprix/miniconda3/envs/torch/lib/python3.10/site-packages/transformers/tokenization_utils_base.py:2436: UserWarning: `max_length` is ignored when `padding`=`True` and there is no truncation strategy. To pad to max length, use `padding='max_length'`.\n",
      "  warnings.warn(\n",
      "Map (num_proc=15):   1%|          | 1028/93672 [00:01<01:11, 1304.83 examples/s]/home/fritzprix/miniconda3/envs/torch/lib/python3.10/site-packages/transformers/tokenization_utils_base.py:2436: UserWarning: `max_length` is ignored when `padding`=`True` and there is no truncation strategy. To pad to max length, use `padding='max_length'`.\n",
      "  warnings.warn(\n",
      "Map (num_proc=15):   2%|▏         | 1952/93672 [00:02<00:45, 2000.02 examples/s]/home/fritzprix/miniconda3/envs/torch/lib/python3.10/site-packages/transformers/tokenization_utils_base.py:2436: UserWarning: `max_length` is ignored when `padding`=`True` and there is no truncation strategy. To pad to max length, use `padding='max_length'`.\n",
      "  warnings.warn(\n",
      "Map (num_proc=15):   4%|▎         | 3316/93672 [00:02<00:30, 2952.88 examples/s]/home/fritzprix/miniconda3/envs/torch/lib/python3.10/site-packages/transformers/tokenization_utils_base.py:2436: UserWarning: `max_length` is ignored when `padding`=`True` and there is no truncation strategy. To pad to max length, use `padding='max_length'`.\n",
      "  warnings.warn(\n",
      "Map (num_proc=15):   5%|▍         | 4680/93672 [00:03<00:23, 3719.13 examples/s]/home/fritzprix/miniconda3/envs/torch/lib/python3.10/site-packages/transformers/tokenization_utils_base.py:2436: UserWarning: `max_length` is ignored when `padding`=`True` and there is no truncation strategy. To pad to max length, use `padding='max_length'`.\n",
      "  warnings.warn(\n",
      "Map (num_proc=15):   7%|▋         | 6592/93672 [00:03<00:20, 4147.09 examples/s]/home/fritzprix/miniconda3/envs/torch/lib/python3.10/site-packages/transformers/tokenization_utils_base.py:2436: UserWarning: `max_length` is ignored when `padding`=`True` and there is no truncation strategy. To pad to max length, use `padding='max_length'`.\n",
      "  warnings.warn(\n",
      "Map (num_proc=15):   9%|▉         | 8568/93672 [00:03<00:16, 5088.87 examples/s]/home/fritzprix/miniconda3/envs/torch/lib/python3.10/site-packages/transformers/tokenization_utils_base.py:2436: UserWarning: `max_length` is ignored when `padding`=`True` and there is no truncation strategy. To pad to max length, use `padding='max_length'`.\n",
      "  warnings.warn(\n",
      "Map (num_proc=15):  12%|█▏        | 11172/93672 [00:04<00:20, 4003.46 examples/s]/home/fritzprix/miniconda3/envs/torch/lib/python3.10/site-packages/transformers/tokenization_utils_base.py:2436: UserWarning: `max_length` is ignored when `padding`=`True` and there is no truncation strategy. To pad to max length, use `padding='max_length'`.\n",
      "  warnings.warn(\n",
      "Map (num_proc=15):  15%|█▍        | 13636/93672 [00:05<00:24, 3213.38 examples/s]/home/fritzprix/miniconda3/envs/torch/lib/python3.10/site-packages/transformers/tokenization_utils_base.py:2436: UserWarning: `max_length` is ignored when `padding`=`True` and there is no truncation strategy. To pad to max length, use `padding='max_length'`.\n",
      "  warnings.warn(\n",
      "Map (num_proc=15):  18%|█▊        | 16952/93672 [00:06<00:21, 3606.41 examples/s]/home/fritzprix/miniconda3/envs/torch/lib/python3.10/site-packages/transformers/tokenization_utils_base.py:2436: UserWarning: `max_length` is ignored when `padding`=`True` and there is no truncation strategy. To pad to max length, use `padding='max_length'`.\n",
      "  warnings.warn(\n",
      "Map (num_proc=15):  22%|██▏       | 21060/93672 [00:06<00:14, 4922.43 examples/s]/home/fritzprix/miniconda3/envs/torch/lib/python3.10/site-packages/transformers/tokenization_utils_base.py:2436: UserWarning: `max_length` is ignored when `padding`=`True` and there is no truncation strategy. To pad to max length, use `padding='max_length'`.\n",
      "  warnings.warn(\n",
      "Map (num_proc=15):  28%|██▊       | 26456/93672 [00:07<00:10, 6622.91 examples/s]/home/fritzprix/miniconda3/envs/torch/lib/python3.10/site-packages/transformers/tokenization_utils_base.py:2436: UserWarning: `max_length` is ignored when `padding`=`True` and there is no truncation strategy. To pad to max length, use `padding='max_length'`.\n",
      "  warnings.warn(\n",
      "Map (num_proc=15):  31%|███▏      | 29480/93672 [00:08<00:10, 5977.95 examples/s]/home/fritzprix/miniconda3/envs/torch/lib/python3.10/site-packages/transformers/tokenization_utils_base.py:2436: UserWarning: `max_length` is ignored when `padding`=`True` and there is no truncation strategy. To pad to max length, use `padding='max_length'`.\n",
      "  warnings.warn(\n",
      "Map (num_proc=15): 100%|██████████| 93672/93672 [00:20<00:00, 4497.99 examples/s]\n",
      "Map (num_proc=15):   0%|          | 0/104080 [00:00<?, ? examples/s]/home/fritzprix/miniconda3/envs/torch/lib/python3.10/site-packages/transformers/tokenization_utils_base.py:2436: UserWarning: `max_length` is ignored when `padding`=`True` and there is no truncation strategy. To pad to max length, use `padding='max_length'`.\n",
      "  warnings.warn(\n",
      "Map (num_proc=15):   0%|          | 164/104080 [00:00<06:31, 265.40 examples/s]/home/fritzprix/miniconda3/envs/torch/lib/python3.10/site-packages/transformers/tokenization_utils_base.py:2436: UserWarning: `max_length` is ignored when `padding`=`True` and there is no truncation strategy. To pad to max length, use `padding='max_length'`.\n",
      "  warnings.warn(\n",
      "Map (num_proc=15):   1%|          | 552/104080 [00:01<02:16, 757.64 examples/s]/home/fritzprix/miniconda3/envs/torch/lib/python3.10/site-packages/transformers/tokenization_utils_base.py:2436: UserWarning: `max_length` is ignored when `padding`=`True` and there is no truncation strategy. To pad to max length, use `padding='max_length'`.\n",
      "  warnings.warn(\n",
      "Map (num_proc=15):   1%|          | 1004/104080 [00:01<01:25, 1198.70 examples/s]/home/fritzprix/miniconda3/envs/torch/lib/python3.10/site-packages/transformers/tokenization_utils_base.py:2436: UserWarning: `max_length` is ignored when `padding`=`True` and there is no truncation strategy. To pad to max length, use `padding='max_length'`.\n",
      "  warnings.warn(\n",
      "Map (num_proc=15):   2%|▏         | 1820/104080 [00:02<00:58, 1739.89 examples/s]/home/fritzprix/miniconda3/envs/torch/lib/python3.10/site-packages/transformers/tokenization_utils_base.py:2436: UserWarning: `max_length` is ignored when `padding`=`True` and there is no truncation strategy. To pad to max length, use `padding='max_length'`.\n",
      "  warnings.warn(\n",
      "Map (num_proc=15):   3%|▎         | 3184/104080 [00:02<00:35, 2852.85 examples/s]/home/fritzprix/miniconda3/envs/torch/lib/python3.10/site-packages/transformers/tokenization_utils_base.py:2436: UserWarning: `max_length` is ignored when `padding`=`True` and there is no truncation strategy. To pad to max length, use `padding='max_length'`.\n",
      "  warnings.warn(\n",
      "Map (num_proc=15):   4%|▍         | 4048/104080 [00:02<00:42, 2338.13 examples/s]/home/fritzprix/miniconda3/envs/torch/lib/python3.10/site-packages/transformers/tokenization_utils_base.py:2436: UserWarning: `max_length` is ignored when `padding`=`True` and there is no truncation strategy. To pad to max length, use `padding='max_length'`.\n",
      "  warnings.warn(\n",
      "Map (num_proc=15):   6%|▌         | 6416/104080 [00:03<00:23, 4072.84 examples/s]/home/fritzprix/miniconda3/envs/torch/lib/python3.10/site-packages/transformers/tokenization_utils_base.py:2436: UserWarning: `max_length` is ignored when `padding`=`True` and there is no truncation strategy. To pad to max length, use `padding='max_length'`.\n",
      "  warnings.warn(\n",
      "Map (num_proc=15):   8%|▊         | 8716/104080 [00:04<00:19, 4780.87 examples/s]/home/fritzprix/miniconda3/envs/torch/lib/python3.10/site-packages/transformers/tokenization_utils_base.py:2436: UserWarning: `max_length` is ignored when `padding`=`True` and there is no truncation strategy. To pad to max length, use `padding='max_length'`.\n",
      "  warnings.warn(\n",
      "Map (num_proc=15):  10%|▉         | 10120/104080 [00:04<00:28, 3315.08 examples/s]/home/fritzprix/miniconda3/envs/torch/lib/python3.10/site-packages/transformers/tokenization_utils_base.py:2436: UserWarning: `max_length` is ignored when `padding`=`True` and there is no truncation strategy. To pad to max length, use `padding='max_length'`.\n",
      "  warnings.warn(\n",
      "Map (num_proc=15):  13%|█▎        | 13144/104080 [00:05<00:26, 3497.21 examples/s]/home/fritzprix/miniconda3/envs/torch/lib/python3.10/site-packages/transformers/tokenization_utils_base.py:2436: UserWarning: `max_length` is ignored when `padding`=`True` and there is no truncation strategy. To pad to max length, use `padding='max_length'`.\n",
      "  warnings.warn(\n",
      "Map (num_proc=15):  16%|█▌        | 16320/104080 [00:05<00:19, 4479.87 examples/s]/home/fritzprix/miniconda3/envs/torch/lib/python3.10/site-packages/transformers/tokenization_utils_base.py:2436: UserWarning: `max_length` is ignored when `padding`=`True` and there is no truncation strategy. To pad to max length, use `padding='max_length'`.\n",
      "  warnings.warn(\n",
      "Map (num_proc=15):  18%|█▊        | 19204/104080 [00:06<00:22, 3771.63 examples/s]/home/fritzprix/miniconda3/envs/torch/lib/python3.10/site-packages/transformers/tokenization_utils_base.py:2436: UserWarning: `max_length` is ignored when `padding`=`True` and there is no truncation strategy. To pad to max length, use `padding='max_length'`.\n",
      "  warnings.warn(\n",
      "Map (num_proc=15):  24%|██▎       | 24648/104080 [00:07<00:13, 5677.65 examples/s]/home/fritzprix/miniconda3/envs/torch/lib/python3.10/site-packages/transformers/tokenization_utils_base.py:2436: UserWarning: `max_length` is ignored when `padding`=`True` and there is no truncation strategy. To pad to max length, use `padding='max_length'`.\n",
      "  warnings.warn(\n",
      "Map (num_proc=15):  28%|██▊       | 28752/104080 [00:08<00:11, 6541.52 examples/s]/home/fritzprix/miniconda3/envs/torch/lib/python3.10/site-packages/transformers/tokenization_utils_base.py:2436: UserWarning: `max_length` is ignored when `padding`=`True` and there is no truncation strategy. To pad to max length, use `padding='max_length'`.\n",
      "  warnings.warn(\n",
      "Map (num_proc=15): 100%|██████████| 104080/104080 [00:22<00:00, 4724.12 examples/s]\n"
     ]
    }
   ],
   "source": [
    "from data import WikiSourceDataModule\n",
    "tokenizer = get_tokenizer()\n",
    "data = WikiSourceDataModule(tokenizer, 510, batch_size=4, languages=['en'])\n",
    "data.prepare_data()\n",
    "data.setup(\"fit\")\n",
    "train_data = data.train_dataloader()\n",
    "val_data = data.val_dataloader()\n",
    "test_data = data.test_dataloader()"
   ]
  },
  {
   "cell_type": "code",
   "execution_count": 8,
   "metadata": {},
   "outputs": [
    {
     "name": "stderr",
     "output_type": "stream",
     "text": [
      "100%|██████████| 843041/843041 [01:45<00:00, 7986.92it/s]\n"
     ]
    },
    {
     "name": "stdout",
     "output_type": "stream",
     "text": [
      "training : 0.40628108382225037 billion tokens\n"
     ]
    },
    {
     "name": "stderr",
     "output_type": "stream",
     "text": [
      "100%|██████████| 93672/93672 [00:11<00:00, 7899.49it/s]\n"
     ]
    },
    {
     "name": "stdout",
     "output_type": "stream",
     "text": [
      "validation : 0.04514230415225029 billion tokens\n"
     ]
    },
    {
     "name": "stderr",
     "output_type": "stream",
     "text": [
      "100%|██████████| 104080/104080 [00:12<00:00, 8037.91it/s]"
     ]
    },
    {
     "name": "stdout",
     "output_type": "stream",
     "text": [
      "test : 0.05013979598879814 billion tokens\n"
     ]
    },
    {
     "name": "stderr",
     "output_type": "stream",
     "text": [
      "\n"
     ]
    }
   ],
   "source": [
    "from tqdm import tqdm\n",
    "\n",
    "\n",
    "def get_tokens_count(loader):\n",
    "    overall_token_count = 0\n",
    "    for data in tqdm(loader):\n",
    "        token_lengths = data['length']\n",
    "        overall_token_count += token_lengths.sum()\n",
    "\n",
    "    return overall_token_count\n",
    "\n",
    "print(f\"training : {get_tokens_count(train_data) / 1e9} billion tokens\")\n",
    "print(f\"validation : {get_tokens_count(val_data) / 1e9} billion tokens\")\n",
    "print(f\"test : {get_tokens_count(test_data) / 1e9} billion tokens\")\n",
    "\n"
   ]
  }
 ],
 "metadata": {
  "kernelspec": {
   "display_name": "Python 3",
   "language": "python",
   "name": "python3"
  },
  "language_info": {
   "codemirror_mode": {
    "name": "ipython",
    "version": 3
   },
   "file_extension": ".py",
   "mimetype": "text/x-python",
   "name": "python",
   "nbconvert_exporter": "python",
   "pygments_lexer": "ipython3",
   "version": "3.10.13"
  }
 },
 "nbformat": 4,
 "nbformat_minor": 2
}

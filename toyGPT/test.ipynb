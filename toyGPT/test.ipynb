{
 "cells": [
  {
   "cell_type": "code",
   "execution_count": 15,
   "metadata": {},
   "outputs": [
    {
     "name": "stdout",
     "output_type": "stream",
     "text": [
      "111786\n",
      "Dataset({\n",
      "    features: ['length', 'text'],\n",
      "    num_rows: 111786\n",
      "}) Dataset({\n",
      "    features: ['length', 'text'],\n",
      "    num_rows: 1006083\n",
      "})\n"
     ]
    }
   ],
   "source": [
    "from datasets import load_from_disk, Dataset\n",
    "\n",
    "\n",
    "split = 0.1\n",
    "dataset = load_from_disk('local_dscache')\n",
    "visilble_dataset = dataset['train'].shuffle()\n",
    "\n",
    "val_size = int(len(visilble_dataset) / 10)\n",
    "val_dataset = Dataset.from_dict(visilble_dataset[0:val_size])\n",
    "train_dataset = Dataset.from_dict(visilble_dataset[val_size:])\n",
    "\n",
    "print(val_dataset, train_dataset)\n",
    "\n"
   ]
  },
  {
   "cell_type": "code",
   "execution_count": 1,
   "metadata": {},
   "outputs": [
    {
     "name": "stdout",
     "output_type": "stream",
     "text": [
      "0\n",
      "1\n"
     ]
    }
   ],
   "source": [
    "paths = ['p1', 'p2']\n",
    "for i, v in enumerate(paths):\n",
    "    print(i)"
   ]
  }
 ],
 "metadata": {
  "kernelspec": {
   "display_name": "torch",
   "language": "python",
   "name": "python3"
  },
  "language_info": {
   "codemirror_mode": {
    "name": "ipython",
    "version": 3
   },
   "file_extension": ".py",
   "mimetype": "text/x-python",
   "name": "python",
   "nbconvert_exporter": "python",
   "pygments_lexer": "ipython3",
   "version": "3.10.13"
  }
 },
 "nbformat": 4,
 "nbformat_minor": 2
}
